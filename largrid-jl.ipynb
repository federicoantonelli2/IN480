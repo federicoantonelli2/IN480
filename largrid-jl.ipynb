{
 "cells": [
  {
   "cell_type": "markdown",
   "metadata": {},
   "source": [
    "## Traduzione da PYTHON a JULIA"
   ]
  },
  {
   "cell_type": "markdown",
   "metadata": {},
   "source": [
    "*NOTE*\n",
    "- Io uso julia a 32bit quindi di base mi prende Int32, costruisce le funzioni con Int32 all'occorrenza si possono modificare con Int64. (ad esempio il prof ha creato index2addr con int64 e non me la prende)\n",
    "\n",
    "- I vertici vanno scritti in verticale, cioè con array senza virgole [[0,0] [0,1] [1,0] [1,1]] tipo matrici \n",
    "\n",
    "- le celle invece le scrivo come array con virgole quindi la cella è ad esempio [[1,2,3,4],[3,4,5,6]]\n",
    "\n",
    "- i simplessi sono le corrispondenze di indici dei vertici dei triangoli esempio [[0,0] [1,0] [0,1] [1,1]], [[0,1,2],[1,2,3]]\n"
   ]
  },
  {
   "cell_type": "markdown",
   "metadata": {},
   "source": [
    "### Funzione: *larSplit*"
   ]
  },
  {
   "cell_type": "markdown",
   "metadata": {},
   "source": [
    "##### Python"
   ]
  },
  {
   "cell_type": "code",
   "execution_count": null,
   "metadata": {},
   "outputs": [],
   "source": [
    "def larSplit(dom):\n",
    "    def larSplit1(n):\n",
    "        # assert n > 0 and isinstance(n,int)\n",
    "        item = float(dom)/n\n",
    "        ints = range(n+1)\n",
    "        items = [item]*(n+1)\n",
    "        vertices = [[int*item] for (int,item) in zip(ints,items)]\n",
    "        return vertices\n",
    "    return larSplit1"
   ]
  },
  {
   "cell_type": "markdown",
   "metadata": {},
   "source": [
    "##### Julia"
   ]
  },
  {
   "cell_type": "code",
   "execution_count": 26,
   "metadata": {},
   "outputs": [
    {
     "data": {
      "text/plain": [
       "larSplit (generic function with 1 method)"
      ]
     },
     "execution_count": 26,
     "metadata": {},
     "output_type": "execute_result"
    }
   ],
   "source": [
    "function larSplit(dom)\n",
    "    function larSplit1(n)\n",
    "        item = dom/n\n",
    "        ints = range(0,n+1) \n",
    "        vertices=[ints*item;]\n",
    "        return reshape(vertices,1,n+1)\n",
    "    end\n",
    "    return larSplit1\n",
    "end\n",
    "        "
   ]
  },
  {
   "cell_type": "markdown",
   "metadata": {},
   "source": [
    "*ESEMPIO*"
   ]
  },
  {
   "cell_type": "code",
   "execution_count": 27,
   "metadata": {},
   "outputs": [
    {
     "data": {
      "text/plain": [
       "1×5 Array{Float64,2}:\n",
       " 0.0  1.25  2.5  3.75  5.0"
      ]
     },
     "execution_count": 27,
     "metadata": {},
     "output_type": "execute_result"
    }
   ],
   "source": [
    "larSplit(5)(4)"
   ]
  },
  {
   "cell_type": "markdown",
   "metadata": {},
   "source": [
    "### Funzione: *larGrid*"
   ]
  },
  {
   "cell_type": "markdown",
   "metadata": {},
   "source": [
    "##### Python"
   ]
  },
  {
   "cell_type": "code",
   "execution_count": null,
   "metadata": {},
   "outputs": [],
   "source": [
    "def grid0(n):\n",
    "    cells = AA(LIST)(range(n+1))\n",
    "    return cells\n",
    "\n",
    "def grid1(n):\n",
    "    ints = range(n+1)\n",
    "    cells = TRANS([ints[:-1],ints[1:]])\n",
    "    return cells\n",
    "\n",
    "def larGrid(n):\n",
    "    def larGrid1(d):\n",
    "        if d==0: return grid0(n)\n",
    "        elif d==1: return grid1(n)\n",
    "    return larGrid1"
   ]
  },
  {
   "cell_type": "markdown",
   "metadata": {},
   "source": [
    "##### Julia"
   ]
  },
  {
   "cell_type": "code",
   "execution_count": 15,
   "metadata": {},
   "outputs": [
    {
     "data": {
      "text/plain": [
       "larGrid (generic function with 1 method)"
      ]
     },
     "execution_count": 15,
     "metadata": {},
     "output_type": "execute_result"
    }
   ],
   "source": [
    "function grid0(n)\n",
    "    return [[i] for i in range(1,n+1)] \n",
    "end\n",
    "\n",
    "function grid1(n)\n",
    "    return [[i,i+1] for i in range(1,n)]\n",
    "end\n",
    "\n",
    "function Cell(n)\n",
    "    function Cell1(d)\n",
    "        if d==0 \n",
    "            return grid0(n)\n",
    "        elseif d==1 \n",
    "            return grid1(n) \n",
    "        end\n",
    "    end\n",
    "    return Cell1\n",
    "end\n",
    "\n",
    "function grid_0(n)\n",
    "    return hcat([[i] for i in range(0,n+1)]...)\n",
    "end\n",
    "\n",
    "function grid_1(n)\n",
    "    return hcat([[i,i+1] for i in range(0,n)]...)\n",
    "end\n",
    "\n",
    "function larGrid(n)\n",
    "    function larGrid1(d)\n",
    "        if d==0 \n",
    "            return grid_0(n)\n",
    "        elseif d==1 \n",
    "            return grid_1(n) \n",
    "        end\n",
    "    end\n",
    "    return larGrid1\n",
    "end"
   ]
  },
  {
   "cell_type": "markdown",
   "metadata": {},
   "source": [
    "*ESEMPIO*"
   ]
  },
  {
   "cell_type": "code",
   "execution_count": 16,
   "metadata": {},
   "outputs": [
    {
     "data": {
      "text/plain": [
       "4-element Array{Array{Int32,1},1}:\n",
       " [1]\n",
       " [2]\n",
       " [3]\n",
       " [4]"
      ]
     },
     "execution_count": 16,
     "metadata": {},
     "output_type": "execute_result"
    }
   ],
   "source": [
    "grid_0(3)"
   ]
  },
  {
   "cell_type": "code",
   "execution_count": 17,
   "metadata": {},
   "outputs": [
    {
     "data": {
      "text/plain": [
       "3-element Array{Array{Int32,1},1}:\n",
       " [1, 2]\n",
       " [2, 3]\n",
       " [3, 4]"
      ]
     },
     "execution_count": 17,
     "metadata": {},
     "output_type": "execute_result"
    }
   ],
   "source": [
    "grid_1(3)"
   ]
  },
  {
   "cell_type": "code",
   "execution_count": null,
   "metadata": {},
   "outputs": [],
   "source": []
  },
  {
   "cell_type": "code",
   "execution_count": 19,
   "metadata": {},
   "outputs": [
    {
     "data": {
      "text/plain": [
       "5-element Array{Array{Int32,1},1}:\n",
       " [1]\n",
       " [2]\n",
       " [3]\n",
       " [4]\n",
       " [5]"
      ]
     },
     "execution_count": 19,
     "metadata": {},
     "output_type": "execute_result"
    }
   ],
   "source": [
    "larGrid(4)(0)"
   ]
  },
  {
   "cell_type": "markdown",
   "metadata": {},
   "source": [
    "### Funzione: *larCuboidFacets*"
   ]
  },
  {
   "cell_type": "markdown",
   "metadata": {},
   "source": [
    "##### Python"
   ]
  },
  {
   "cell_type": "code",
   "execution_count": null,
   "metadata": {},
   "outputs": [],
   "source": [
    "def larCuboidsFacets((V,cells)):\n",
    "   dim = len(V[0])\n",
    "   n = int(2**(dim-1))\n",
    "   facets = []\n",
    "   for cell in cells:\n",
    "      coords = [AR([V[v],v]) for v in cell] # decorate coords with vertex index\n",
    "      doubleFacets = [sorted(coords,key=(lambda x: x[k])) for k in range(dim)] # copia la lista tot volte e la ordina rispetto agli elementi x[k] con k in range(dim)\n",
    "      facets += AA(AA(LAST))(CAT([[pair[:n],pair[n:]] for pair in doubleFacets]))\n",
    "   facets = AA(eval)(set(AA(str)(facets))) # remove duplicates\n",
    "   return V,sorted(facets)\n"
   ]
  },
  {
   "cell_type": "markdown",
   "metadata": {},
   "source": [
    "##### Julia"
   ]
  },
  {
   "cell_type": "code",
   "execution_count": 1,
   "metadata": {},
   "outputs": [
    {
     "data": {
      "text/plain": [
       "larCuboidsFacets (generic function with 1 method)"
      ]
     },
     "execution_count": 1,
     "metadata": {},
     "output_type": "execute_result"
    }
   ],
   "source": [
    "function larCuboidsFacets(V,cells)\n",
    "    dim = size(V,1)\n",
    "    n = 2^(dim-1)\n",
    "    facets = []\n",
    "    for cell in cells\n",
    "        Vert=hcat([V[:,i] for i in cell]...)\n",
    "        coords = vcat(Vert,reshape(cell,(1,size(cell)[1])))\n",
    "        doubleFacets=hcat([coords[:,sortperm(coords[k,:])] for k in range(1,dim)]...)\n",
    "        lastRow=doubleFacets[dim+1,:]\n",
    "        facets0 = reshape(lastRow,(n,Int(size(lastRow)[1]/n)))\n",
    "        append!(facets,collect([facets0[:,i] for i in range(1,size(facets0)[2])]))\n",
    "    end\n",
    "    facets = unique(facets)\n",
    "    return V,sort(facets, by = x -> x[1])\n",
    "end"
   ]
  },
  {
   "cell_type": "markdown",
   "metadata": {},
   "source": [
    "*ESEMPIO*"
   ]
  },
  {
   "cell_type": "code",
   "execution_count": 3,
   "metadata": {},
   "outputs": [
    {
     "data": {
      "text/plain": [
       "([0 0 … 1 1; 0 1 … 1 0; 0 0 … 1 1], Array{Int32,1}[[1, 2, 5, 6], [1, 4, 5, 8], [1, 2, 3, 4], [2, 3, 6, 7], [3, 4, 7, 8], [5, 6, 7, 8]])"
      ]
     },
     "execution_count": 3,
     "metadata": {},
     "output_type": "execute_result"
    }
   ],
   "source": [
    "larCuboidsFacets([[0, 0,0] [0, 1,0]  [1, 1,0]  [1, 0,0] [0, 0,1] [0, 1,1]  [1, 1,1]  [1, 0,1] ], [[1, 2, 3,4,5,6,7,8]])"
   ]
  },
  {
   "cell_type": "markdown",
   "metadata": {},
   "source": [
    "### Funzione: *larSimplicialStack*"
   ]
  },
  {
   "cell_type": "markdown",
   "metadata": {},
   "source": [
    "##### Python"
   ]
  },
  {
   "cell_type": "code",
   "execution_count": 7,
   "metadata": {},
   "outputs": [
    {
     "ename": "LoadError",
     "evalue": "\u001b[91msyntax: extra token \"larSimplexFacets\" after end of expression\u001b[39m",
     "output_type": "error",
     "traceback": [
      "\u001b[91msyntax: extra token \"larSimplexFacets\" after end of expression\u001b[39m",
      "",
      "Stacktrace:",
      " [1] \u001b[1minclude_string\u001b[22m\u001b[22m at \u001b[1m.\\loading.jl:522\u001b[22m\u001b[22m"
     ]
    }
   ],
   "source": [
    "#NON nel mio modulo\n",
    "def larSimplexFacets(simplices):\n",
    "    out = []\n",
    "    d = len(simplices[0])\n",
    "    for simplex in simplices:\n",
    "        out += AA(sorted)([simplex[0:k]+simplex[k+1:d] for k in range(d)])\n",
    "    out = set(AA(tuple)(out))\n",
    "    return  sorted(out)\n",
    "\n",
    "def larSimplicialStack(simplices):\n",
    "   dim = len(simplices[0])-1\n",
    "   faceStack = [simplices]\n",
    "   for k in range(dim):\n",
    "      faces = larSimplexFacets(faceStack[-1])\n",
    "      faceStack.append(faces)\n",
    "   return REVERSE(faceStack)"
   ]
  },
  {
   "cell_type": "markdown",
   "metadata": {},
   "source": [
    "##### Julia"
   ]
  },
  {
   "cell_type": "code",
   "execution_count": 5,
   "metadata": {},
   "outputs": [
    {
     "data": {
      "text/plain": [
       "larSimplicialStack (generic function with 1 method)"
      ]
     },
     "execution_count": 5,
     "metadata": {},
     "output_type": "execute_result"
    }
   ],
   "source": [
    "function larSimplexFacets(simplices)#[[,],[,]]\n",
    "    out=[]\n",
    "    d=size(simplices[1],1)\n",
    "    for simplex in simplices\n",
    "        sim=vcat(simplex,simplex)\n",
    "        for k = d-1\n",
    "            append!(out,collect([sim[i:i+k-1] for i in range(1,d)]))\n",
    "        end\n",
    "    end\n",
    "    facets0=collect([sort(out[i]) for i in range(1,length(out))])\n",
    "    facets=unique(facets0)\n",
    "    return sort(facets, by = x -> x[1])\n",
    "end\n",
    "\n",
    "function larSimplicialStack(simplices)\n",
    "    dim=size(simplices[1],1)-1   \n",
    "    faceStack = [simplices]\n",
    "    for k in range(1,dim)\n",
    "        faces = larSimplexFacets(faceStack[end])# errore nella chiamata ma p.funzione funziona\n",
    "        append!(faceStack,[faces])\n",
    "    end\n",
    "    return flipdim(faceStack,1)\n",
    "end       "
   ]
  },
  {
   "cell_type": "code",
   "execution_count": 7,
   "metadata": {},
   "outputs": [
    {
     "data": {
      "text/plain": [
       "4-element Array{Array{Array{Int32,1},1},1}:\n",
       " Array{Int32,1}[[1], [2], [3], [4]]                            \n",
       " Array{Int32,1}[[1, 2], [1, 3], [1, 4], [2, 3], [2, 4], [3, 4]]\n",
       " Array{Int32,1}[[1, 2, 3], [1, 3, 4], [1, 2, 4], [2, 3, 4]]    \n",
       " Array{Int32,1}[[1, 2, 3, 4]]                                  "
      ]
     },
     "execution_count": 7,
     "metadata": {},
     "output_type": "execute_result"
    }
   ],
   "source": [
    "larSimplicialStack([[1,2,3,4]])"
   ]
  },
  {
   "cell_type": "markdown",
   "metadata": {},
   "source": [
    "### Funzione: *larGridSkeleton*"
   ]
  },
  {
   "cell_type": "markdown",
   "metadata": {},
   "source": [
    "##### Python"
   ]
  },
  {
   "cell_type": "code",
   "execution_count": 15,
   "metadata": {
    "scrolled": true
   },
   "outputs": [
    {
     "ename": "LoadError",
     "evalue": "\u001b[91msyntax: extra token \"index2addr\" after end of expression\u001b[39m",
     "output_type": "error",
     "traceback": [
      "\u001b[91msyntax: extra token \"index2addr\" after end of expression\u001b[39m",
      "",
      "Stacktrace:",
      " [1] \u001b[1minclude_string\u001b[22m\u001b[22m at \u001b[1m.\\loading.jl:522\u001b[22m\u001b[22m"
     ]
    }
   ],
   "source": [
    "def index2addr(shape):\n",
    "    n = len(shape)\n",
    "    shape = shape[1:]+[1]\n",
    "    weights = [PROD(shape[k:]) for k in range(n)]\n",
    "    def index2addr0 (multindex):\n",
    "        return INNERPROD([multindex, weights])\n",
    "    return index2addr0\n",
    "\n",
    "def larCellProd(cellLists):\n",
    "    shapes = [len(item) for item in cellLists]\n",
    "    indices = CART([range(shape) for shape in shapes])\n",
    "    jointCells = [CART([cells[k] for k,cells in zip(index,cellLists)])\n",
    "                  for index in indices]\n",
    "    convert = index2addr([ shape+1 if (len(cellLists[k][0]) > 1) else shape\n",
    "                             for k,shape in enumerate(shapes) ])\n",
    "    return [AA(convert)(cell) for cell in jointCells]\n",
    "    \n",
    "def binaryRange(n):\n",
    "    return [('{0:0'+str(n)+'b}').format(k) for k in range(2**n)]\n",
    "\n",
    "def filterByOrder(n):\n",
    "    terms = [AA(int)(list(term)) for term in binaryRange(n)]\n",
    "    return [[term for term in terms if sum(term) == k] for k in range(n+1)]\n",
    "\n",
    "def larGridSkeleton(shape):\n",
    "    n = len(shape)\n",
    "    def larGridSkeleton0(d):\n",
    "        components = filterByOrder(n)[d]\n",
    "        componentCellLists = [AA(APPLY)(zip( AA(larGrid)(shape),(component) ))\n",
    "                              for component in components]\n",
    "        return CAT([ larCellProd(cellLists)  for cellLists in componentCellLists ])\n",
    "    return larGridSkeleton0"
   ]
  },
  {
   "cell_type": "markdown",
   "metadata": {},
   "source": [
    "##### Julia"
   ]
  },
  {
   "cell_type": "code",
   "execution_count": 9,
   "metadata": {},
   "outputs": [
    {
     "data": {
      "text/plain": [
       "larGridSkeleton (generic function with 1 method)"
      ]
     },
     "execution_count": 9,
     "metadata": {},
     "output_type": "execute_result"
    }
   ],
   "source": [
    "using IterTools\n",
    "\n",
    "function index2addr(shape::Array{Int32,1})\n",
    "    index2addr(hcat(shape...))\n",
    "end\n",
    "\n",
    "function index2addr(shape::Array{Int32,2})\n",
    "    n = length(shape)\n",
    "    theShape = append!(shape[2:end],1)\n",
    "    weights = [prod(theShape[k:end]) for k in range(1,n)]\n",
    "    function index2addr0(multiIndex)\n",
    "        return dot(collect(multiIndex), weights) + 1\n",
    "    end\n",
    "    return index2addr0\n",
    "end\n",
    "\n",
    "function binaryRange(n)\n",
    "    return [bin(k,n) for k in 0:2^n-1]\n",
    "end\n",
    "\n",
    "function filterByOrder(n)\n",
    "    terms = [[parse(Int8,bit) for bit in convert(Array{Char,1},term)] for term in binaryRange(n)]\n",
    "    return [[term for term in terms if sum(term) == k] for k in 0:n]\n",
    "end\n",
    "\n",
    "function cart(args)\n",
    "   return sort(collect(product(args...)))\n",
    "end\n",
    "\n",
    "function larCellProd(cellLists)\n",
    "    shapes = [length(item) for item in cellLists]\n",
    "    subscripts = cart([collect(range(0,shape)) for shape in shapes])\n",
    "    indices = hcat([collect(tuple) for tuple in subscripts]...)\n",
    "    jointCells = Any[]\n",
    "    for h in 1:size(indices,2)\n",
    "        index = indices[:,h]\n",
    "        cell = hcat(cart([cells[k+1] for (k,cells) in zip(index,cellLists)])...)\n",
    "        append!(jointCells,[cell])\n",
    "    end\n",
    "    convertIt = index2addr([ (length(cellLists[k][1]) > 1)? shape+1 : shape for (k,shape) in enumerate(shapes) ])\t\t\n",
    "    [vcat(map(convertIt, jointCells[j])...) for j in 1:size(jointCells,1)]\n",
    "    #[map(convertIt, jointCells[j]) for j in 1:size(jointCells,1)]\n",
    "end\n",
    "\n",
    "function larGridSkeleton(shape)\n",
    "    n = length(shape)\n",
    "    function larGridSkeleton0(d)\n",
    "        components = filterByOrder(n)[d+1]\n",
    "        mymap(arr) = [arr[:,k]  for k in 1:size(arr,2)]\n",
    "        componentCellLists = [ [ mymap(f(x)) for (f,x) in zip( [larGrid(dim) for dim in shape],component ) ]\n",
    "                              for component in components ]\n",
    "        out = [ larCellProd(cellLists)  for cellLists in componentCellLists ]\n",
    "        return vcat(out...)\n",
    "    end\n",
    "    return larGridSkeleton0\n",
    "end                   "
   ]
  },
  {
   "cell_type": "markdown",
   "metadata": {},
   "source": [
    "### Funzione: *larModelProduct*"
   ]
  },
  {
   "cell_type": "markdown",
   "metadata": {},
   "source": [
    "##### Python"
   ]
  },
  {
   "cell_type": "code",
   "execution_count": null,
   "metadata": {},
   "outputs": [],
   "source": [
    "def larModelProduct(twoModels):\n",
    "    (V, cells1), (W, cells2) = twoModels\n",
    "    vertices = collections.OrderedDict(); k = 0\n",
    "    for v in V:\n",
    "        for w in W:\n",
    "            id = tuple(v+w)\n",
    "            if not vertices.has_key(id): #se quell'indice ha una chiave dice vero quindi not vero dice falso ed esce , se non ha una chiave allora entra e gliela da\n",
    "                vertices[id] = k\n",
    "                k += 1   \n",
    "    cells = [ [vertices[tuple(V[v] + W[w])] for v in c1 for w in c2]\n",
    "             for c1 in cells1 for c2 in cells2]  \n",
    "    model = [list(v) for v in vertices.keys()], cells\n",
    "    return model\n"
   ]
  },
  {
   "cell_type": "markdown",
   "metadata": {},
   "source": [
    "##### Julia"
   ]
  },
  {
   "cell_type": "code",
   "execution_count": 10,
   "metadata": {},
   "outputs": [
    {
     "data": {
      "text/plain": [
       "larModelProduct (generic function with 2 methods)"
      ]
     },
     "execution_count": 10,
     "metadata": {},
     "output_type": "execute_result"
    }
   ],
   "source": [
    "using DataStructures\n",
    "\n",
    "\n",
    "function larModelProduct(twoModels)\n",
    "    modelOne, modelTwo = twoModels\n",
    "    larModelProduct(modelOne, modelTwo)\n",
    "end\n",
    "\n",
    "function larModelProduct(modelOne, modelTwo)\n",
    "    (V, cells1) = modelOne\n",
    "    (W, cells2) = modelTwo\n",
    "\n",
    "    k = 1\n",
    "    vertices = OrderedDict()\n",
    "    for v in V\n",
    "        for w in W\n",
    "            id = [v;w]\n",
    "            if haskey(vertices, id) == false\n",
    "                vertices[id] = k\n",
    "                k = k + 1\n",
    "            end\n",
    "        end\n",
    "    end\n",
    "\n",
    "    cells = []\n",
    "    for c1 in cells1\n",
    "        for c2 in cells2\n",
    "            cell = []\n",
    "            for vc in c1\n",
    "                for wc in c2 \n",
    "                    push!(cell, vertices[[V[vc];W[wc]]] )\n",
    "                end\n",
    "            end\n",
    "            push!(cells, cell)\n",
    "        end\n",
    "    end\n",
    "\n",
    "    vertexmodel = []\n",
    "    for v in keys(vertices)\n",
    "        push!(vertexmodel, v)\n",
    "    end\n",
    "\n",
    "    return (vertexmodel, cells)\n",
    "end\n"
   ]
  },
  {
   "cell_type": "markdown",
   "metadata": {},
   "source": [
    "### Funzione: *larCuboids*"
   ]
  },
  {
   "cell_type": "markdown",
   "metadata": {},
   "source": [
    "##### Python"
   ]
  },
  {
   "cell_type": "code",
   "execution_count": null,
   "metadata": {},
   "outputs": [],
   "source": [
    "def larVertProd(vertLists):\n",
    "    return AA(CAT)(CART(vertLists))\n",
    "\n",
    "def larImageVerts(shape):\n",
    "   def vertexDomain(n): \n",
    "      return [[k] for k in range(n)]\n",
    "   vertLists = [vertexDomain(k+1) for k in shape]\n",
    "   vertGrid = larVertProd(vertLists)\n",
    "   return vertGrid\n",
    "\n",
    "def larCuboids(shape, full=False):\n",
    "   vertGrid = larImageVerts(shape)\n",
    "   gridMap = larGridSkeleton(shape)\n",
    "   if not full: \n",
    "      cells = gridMap(len(shape))\n",
    "   else:\n",
    "      skeletonIds = range(len(shape)+1)\n",
    "      cells = [ gridMap(id) for id in skeletonIds ]\n",
    "   return vertGrid, cells"
   ]
  },
  {
   "cell_type": "markdown",
   "metadata": {},
   "source": [
    "##### Julia"
   ]
  },
  {
   "cell_type": "code",
   "execution_count": 11,
   "metadata": {},
   "outputs": [
    {
     "data": {
      "text/plain": [
       "larCuboids (generic function with 2 methods)"
      ]
     },
     "execution_count": 11,
     "metadata": {},
     "output_type": "execute_result"
    }
   ],
   "source": [
    "using IterTools\n",
    "\n",
    "function cart(args)\n",
    "    return sort(collect(IterTools.product(args...)))\n",
    "end\n",
    "\n",
    "function larVertProd(vertLists)\n",
    "    coords = [[x[1] for x in v] for v in cart(vertLists)]\n",
    "   return sortcols(hcat(coords...))\n",
    "end\n",
    "\n",
    "function vertexDomain(n)\n",
    "    return hcat([k for k in 0:n-1]...)\n",
    "end\n",
    "\n",
    "function larImageVerts(shape)\n",
    "    vertLists = [vertexDomain(k+1) for k in shape]\n",
    "    vertGrid = larVertProd(vertLists)\n",
    "    return vertGrid\n",
    "end\n",
    "\n",
    "function larCuboids(shape, full=false)\n",
    "    vertGrid = larImageVerts(shape)\n",
    "    gridMap = larGridSkeleton(shape)\n",
    "    if ! full\n",
    "        cells = gridMap(length(shape))\n",
    "    else\n",
    "        skeletonIds = 0:length(shape)\n",
    "        cells = [ gridMap(id) for id in skeletonIds ]\n",
    "    end\n",
    "    return vertGrid, cells\n",
    "end\n"
   ]
  },
  {
   "cell_type": "markdown",
   "metadata": {},
   "source": [
    "ESEMPIO"
   ]
  },
  {
   "cell_type": "code",
   "execution_count": 3,
   "metadata": {},
   "outputs": [
    {
     "ename": "LoadError",
     "evalue": "\u001b[91mUndefVarError: larCuboids not defined\u001b[39m",
     "output_type": "error",
     "traceback": [
      "\u001b[91mUndefVarError: larCuboids not defined\u001b[39m",
      "",
      "Stacktrace:",
      " [1] \u001b[1minclude_string\u001b[22m\u001b[22m at \u001b[1m.\\loading.jl:522\u001b[22m\u001b[22m"
     ]
    }
   ],
   "source": [
    "shape = (1,1)\n",
    "cubes = larCuboids(shape,true)\n",
    "print(cubes)"
   ]
  },
  {
   "cell_type": "markdown",
   "metadata": {},
   "source": [
    "### Funzione: *gridSkeletons*"
   ]
  },
  {
   "cell_type": "markdown",
   "metadata": {},
   "source": [
    "##### Python"
   ]
  },
  {
   "cell_type": "code",
   "execution_count": null,
   "metadata": {},
   "outputs": [],
   "source": [
    "def gridSkeletons(shape):\n",
    "   gridMap = larGridSkeleton(shape)\n",
    "   skeletonIds = range(len(shape)+1)\n",
    "   skeletons = [ gridMap(id) for id in skeletonIds ]\n",
    "   return skeletons"
   ]
  },
  {
   "cell_type": "markdown",
   "metadata": {},
   "source": [
    "##### Julia"
   ]
  },
  {
   "cell_type": "code",
   "execution_count": 12,
   "metadata": {},
   "outputs": [
    {
     "data": {
      "text/plain": [
       "gridSkeletons (generic function with 1 method)"
      ]
     },
     "execution_count": 12,
     "metadata": {},
     "output_type": "execute_result"
    }
   ],
   "source": [
    "function gridSkeletons(shape)\n",
    "    gridMap = larGridSkeleton(shape)\n",
    "    skeletonIds = range(0,length(shape)+1)\n",
    "    skeletons = [gridMap(id) for id in skeletonIds]\n",
    "    return skeletons\n",
    "end"
   ]
  },
  {
   "cell_type": "code",
   "execution_count": null,
   "metadata": {},
   "outputs": [],
   "source": []
  }
 ],
 "metadata": {
  "kernelspec": {
   "display_name": "Julia 0.6.1",
   "language": "julia",
   "name": "julia-0.6"
  },
  "language_info": {
   "file_extension": ".jl",
   "mimetype": "application/julia",
   "name": "julia",
   "version": "0.6.1"
  }
 },
 "nbformat": 4,
 "nbformat_minor": 2
}
